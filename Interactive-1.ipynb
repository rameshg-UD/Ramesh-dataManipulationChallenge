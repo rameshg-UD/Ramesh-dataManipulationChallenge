{
 "cells": [
  {
   "cell_type": "code",
   "execution_count": null,
   "id": "df8c18b8-6a7c-4b42-9c64-a4e47534f6a1",
   "metadata": {
    "vscode": {
     "languageId": "quarto"
    }
   },
   "outputs": [
    {
     "name": "stdout",
     "output_type": "stream",
     "text": [
      "Ans 3:\n",
      "We cannot use shipments_df['is_late'] in the 'if' statement as it returns a data series which is compared against a single boolean value\n",
      "\n",
      "\n",
      "The fix would be to use a map method in the lambda function as shown below\n"
     ]
    },
    {
     "data": {
      "text/html": [
       "<div>\n",
       "<style scoped>\n",
       "    .dataframe tbody tr th:only-of-type {\n",
       "        vertical-align: middle;\n",
       "    }\n",
       "\n",
       "    .dataframe tbody tr th {\n",
       "        vertical-align: top;\n",
       "    }\n",
       "\n",
       "    .dataframe thead th {\n",
       "        text-align: right;\n",
       "    }\n",
       "</style>\n",
       "<table border=\"1\" class=\"dataframe\">\n",
       "  <thead>\n",
       "    <tr style=\"text-align: right;\">\n",
       "      <th></th>\n",
       "      <th>shipID</th>\n",
       "      <th>plannedShipDate</th>\n",
       "      <th>actualShipDate</th>\n",
       "      <th>partID</th>\n",
       "      <th>quantity</th>\n",
       "      <th>is_late</th>\n",
       "      <th>days_late</th>\n",
       "      <th>lateStatement</th>\n",
       "    </tr>\n",
       "  </thead>\n",
       "  <tbody>\n",
       "    <tr>\n",
       "      <th>0</th>\n",
       "      <td>10001</td>\n",
       "      <td>2013-11-06</td>\n",
       "      <td>2013-10-04</td>\n",
       "      <td>part92b16c5</td>\n",
       "      <td>6</td>\n",
       "      <td>False</td>\n",
       "      <td>-33</td>\n",
       "      <td>Shipment is on Time</td>\n",
       "    </tr>\n",
       "    <tr>\n",
       "      <th>1</th>\n",
       "      <td>10002</td>\n",
       "      <td>2013-10-15</td>\n",
       "      <td>2013-10-04</td>\n",
       "      <td>part66983b</td>\n",
       "      <td>2</td>\n",
       "      <td>False</td>\n",
       "      <td>-11</td>\n",
       "      <td>Shipment is on Time</td>\n",
       "    </tr>\n",
       "    <tr>\n",
       "      <th>2</th>\n",
       "      <td>10003</td>\n",
       "      <td>2013-10-25</td>\n",
       "      <td>2013-10-07</td>\n",
       "      <td>part8e36f25</td>\n",
       "      <td>1</td>\n",
       "      <td>False</td>\n",
       "      <td>-18</td>\n",
       "      <td>Shipment is on Time</td>\n",
       "    </tr>\n",
       "    <tr>\n",
       "      <th>3</th>\n",
       "      <td>10004</td>\n",
       "      <td>2013-10-14</td>\n",
       "      <td>2013-10-08</td>\n",
       "      <td>part30f5de0</td>\n",
       "      <td>1</td>\n",
       "      <td>False</td>\n",
       "      <td>-6</td>\n",
       "      <td>Shipment is on Time</td>\n",
       "    </tr>\n",
       "    <tr>\n",
       "      <th>4</th>\n",
       "      <td>10005</td>\n",
       "      <td>2013-10-14</td>\n",
       "      <td>2013-10-08</td>\n",
       "      <td>part9d64d35</td>\n",
       "      <td>6</td>\n",
       "      <td>False</td>\n",
       "      <td>-6</td>\n",
       "      <td>Shipment is on Time</td>\n",
       "    </tr>\n",
       "  </tbody>\n",
       "</table>\n",
       "</div>"
      ],
      "text/plain": [
       "   shipID plannedShipDate actualShipDate       partID  quantity  is_late  \\\n",
       "0   10001      2013-11-06     2013-10-04  part92b16c5         6    False   \n",
       "1   10002      2013-10-15     2013-10-04   part66983b         2    False   \n",
       "2   10003      2013-10-25     2013-10-07  part8e36f25         1    False   \n",
       "3   10004      2013-10-14     2013-10-08  part30f5de0         1    False   \n",
       "4   10005      2013-10-14     2013-10-08  part9d64d35         6    False   \n",
       "\n",
       "   days_late        lateStatement  \n",
       "0        -33  Shipment is on Time  \n",
       "1        -11  Shipment is on Time  \n",
       "2        -18  Shipment is on Time  \n",
       "3         -6  Shipment is on Time  \n",
       "4         -6  Shipment is on Time  "
      ]
     },
     "execution_count": 116,
     "metadata": {},
     "output_type": "execute_result"
    }
   ],
   "source": [
    "print(\"Ans 3:\")\n",
    "print(f\"We cannot use shipments_df['is_late'] in the 'if' statement as it returns a data series which is compared against a single boolean value\")\n",
    "print(\"\\n\")\n",
    "print(\"The fix would be to use a map method in the lambda function as shown below\")\n",
    "shipments_with_lateness = (\n",
    "    shipments_df\n",
    "    .assign(\n",
    "        is_late=lambda df: df['actualShipDate'] > df['plannedShipDate'],\n",
    "        days_late=lambda df: (df['actualShipDate'] - df['plannedShipDate']).dt.days,\n",
    "        lateStatement=lambda df: df['is_late'].map({True: \"Darn Shipment is Late\", False: \"Shipment is on Time\"})\n",
    "    )\n",
    ")\n",
    "\n",
    "# Late Shipments\n",
    "shipments_with_lateness[shipments_with_lateness['is_late'] == True].head(5)\n",
    "shipments_with_lateness[shipments_with_lateness['is_late'] == False].head(5)"
   ]
  },
  {
   "cell_type": "code",
   "execution_count": null,
   "id": "e6fd7190-506c-4ebf-ab34-e98982f71384",
   "metadata": {
    "vscode": {
     "languageId": "quarto"
    }
   },
   "outputs": [
    {
     "name": "stdout",
     "output_type": "stream",
     "text": [
      "Ans 3:\n",
      "We cannot use shipments_df['is_late'] in the 'if' statement as it returns a data series which is compared against a single boolean value\n",
      "\n",
      "\n",
      "The fix would be to use a map method in the lambda function as shown below\n"
     ]
    }
   ],
   "source": [
    "print(\"Ans 3:\")\n",
    "print(f\"We cannot use shipments_df['is_late'] in the 'if' statement as it returns a data series which is compared against a single boolean value\")\n",
    "print(\"\\n\")\n",
    "print(\"The fix would be to use a map method in the lambda function as shown below\")\n",
    "shipments_with_lateness = (\n",
    "    shipments_df\n",
    "    .assign(\n",
    "        is_late=lambda df: df['actualShipDate'] > df['plannedShipDate'],\n",
    "        days_late=lambda df: (df['actualShipDate'] - df['plannedShipDate']).dt.days,\n",
    "        lateStatement=lambda df: df['is_late'].map({True: \"Darn Shipment is Late\", False: \"Shipment is on Time\"})\n",
    "    )\n",
    ")"
   ]
  },
  {
   "cell_type": "code",
   "execution_count": null,
   "id": "4870b800-1cee-47aa-853b-c6bc542ff056",
   "metadata": {
    "vscode": {
     "languageId": "quarto"
    }
   },
   "outputs": [
    {
     "name": "stdout",
     "output_type": "stream",
     "text": [
      "Sample Shipments\n"
     ]
    },
    {
     "data": {
      "text/html": [
       "<div>\n",
       "<style scoped>\n",
       "    .dataframe tbody tr th:only-of-type {\n",
       "        vertical-align: middle;\n",
       "    }\n",
       "\n",
       "    .dataframe tbody tr th {\n",
       "        vertical-align: top;\n",
       "    }\n",
       "\n",
       "    .dataframe thead th {\n",
       "        text-align: right;\n",
       "    }\n",
       "</style>\n",
       "<table border=\"1\" class=\"dataframe\">\n",
       "  <thead>\n",
       "    <tr style=\"text-align: right;\">\n",
       "      <th></th>\n",
       "      <th>shipID</th>\n",
       "      <th>plannedShipDate</th>\n",
       "      <th>actualShipDate</th>\n",
       "      <th>partID</th>\n",
       "      <th>quantity</th>\n",
       "      <th>is_late</th>\n",
       "      <th>days_late</th>\n",
       "      <th>lateStatement</th>\n",
       "    </tr>\n",
       "  </thead>\n",
       "  <tbody>\n",
       "    <tr>\n",
       "      <th>0</th>\n",
       "      <td>10001</td>\n",
       "      <td>2013-11-06</td>\n",
       "      <td>2013-10-04</td>\n",
       "      <td>part92b16c5</td>\n",
       "      <td>6</td>\n",
       "      <td>False</td>\n",
       "      <td>-33</td>\n",
       "      <td>Shipment is on Time</td>\n",
       "    </tr>\n",
       "    <tr>\n",
       "      <th>1</th>\n",
       "      <td>10002</td>\n",
       "      <td>2013-10-15</td>\n",
       "      <td>2013-10-04</td>\n",
       "      <td>part66983b</td>\n",
       "      <td>2</td>\n",
       "      <td>False</td>\n",
       "      <td>-11</td>\n",
       "      <td>Shipment is on Time</td>\n",
       "    </tr>\n",
       "    <tr>\n",
       "      <th>2</th>\n",
       "      <td>10003</td>\n",
       "      <td>2013-10-25</td>\n",
       "      <td>2013-10-07</td>\n",
       "      <td>part8e36f25</td>\n",
       "      <td>1</td>\n",
       "      <td>False</td>\n",
       "      <td>-18</td>\n",
       "      <td>Shipment is on Time</td>\n",
       "    </tr>\n",
       "    <tr>\n",
       "      <th>3</th>\n",
       "      <td>10004</td>\n",
       "      <td>2013-10-14</td>\n",
       "      <td>2013-10-08</td>\n",
       "      <td>part30f5de0</td>\n",
       "      <td>1</td>\n",
       "      <td>False</td>\n",
       "      <td>-6</td>\n",
       "      <td>Shipment is on Time</td>\n",
       "    </tr>\n",
       "    <tr>\n",
       "      <th>4</th>\n",
       "      <td>10005</td>\n",
       "      <td>2013-10-14</td>\n",
       "      <td>2013-10-08</td>\n",
       "      <td>part9d64d35</td>\n",
       "      <td>6</td>\n",
       "      <td>False</td>\n",
       "      <td>-6</td>\n",
       "      <td>Shipment is on Time</td>\n",
       "    </tr>\n",
       "  </tbody>\n",
       "</table>\n",
       "</div>"
      ],
      "text/plain": [
       "   shipID plannedShipDate actualShipDate       partID  quantity  is_late  \\\n",
       "0   10001      2013-11-06     2013-10-04  part92b16c5         6    False   \n",
       "1   10002      2013-10-15     2013-10-04   part66983b         2    False   \n",
       "2   10003      2013-10-25     2013-10-07  part8e36f25         1    False   \n",
       "3   10004      2013-10-14     2013-10-08  part30f5de0         1    False   \n",
       "4   10005      2013-10-14     2013-10-08  part9d64d35         6    False   \n",
       "\n",
       "   days_late        lateStatement  \n",
       "0        -33  Shipment is on Time  \n",
       "1        -11  Shipment is on Time  \n",
       "2        -18  Shipment is on Time  \n",
       "3         -6  Shipment is on Time  \n",
       "4         -6  Shipment is on Time  "
      ]
     },
     "execution_count": 118,
     "metadata": {},
     "output_type": "execute_result"
    }
   ],
   "source": [
    "print(\"Sample Shipments\")\n",
    "# Late Shipments\n",
    "shipments_with_lateness[shipments_with_lateness['is_late'] == True].head(5)\n",
    "shipments_with_lateness[shipments_with_lateness['is_late'] == False].head(5)"
   ]
  },
  {
   "cell_type": "code",
   "execution_count": null,
   "id": "760fa3df-8c95-49c8-88d3-c95a6a1fcb07",
   "metadata": {
    "vscode": {
     "languageId": "quarto"
    }
   },
   "outputs": [
    {
     "ename": "SyntaxError",
     "evalue": "closing parenthesis ')' does not match opening parenthesis '{' (<ipython-input-119-a7d5434d1b68>, line 5)",
     "output_type": "error",
     "traceback": [
      "\u001b[0;36m  Cell \u001b[0;32mIn[119], line 5\u001b[0;36m\u001b[0m\n\u001b[0;31m    print(f\"lateStatement=lambda df: df['is_late'].map({True: \"Darn Shipment is Late\", False: \"Shipment is on Time\"})\")\u001b[0m\n\u001b[0m                                                                                                                      ^\u001b[0m\n\u001b[0;31mSyntaxError\u001b[0m\u001b[0;31m:\u001b[0m closing parenthesis ')' does not match opening parenthesis '{'\n"
     ]
    }
   ],
   "source": [
    "print(\"Ans 3:\")\n",
    "print(f\"We cannot use shipments_df['is_late'] in the 'if' statement as it returns a data series which is compared against a single boolean value\")\n",
    "print(\"\\n\")\n",
    "print(\"The fix would be to use a map method in the lambda function as shown below\")\n",
    "print(f\"lateStatement=lambda df: df['is_late'].map({True: \"Darn Shipment is Late\", False: \"Shipment is on Time\"})\")\n",
    "\n",
    "shipments_with_lateness = (\n",
    "    shipments_df\n",
    "    .assign(\n",
    "        is_late=lambda df: df['actualShipDate'] > df['plannedShipDate'],\n",
    "        days_late=lambda df: (df['actualShipDate'] - df['plannedShipDate']).dt.days,\n",
    "        lateStatement=lambda df: df['is_late'].map({True: \"Darn Shipment is Late\", False: \"Shipment is on Time\"})\n",
    "    )\n",
    ")"
   ]
  },
  {
   "cell_type": "code",
   "execution_count": null,
   "id": "7ce8c2e1-1539-4945-b8a7-ae6401333815",
   "metadata": {
    "vscode": {
     "languageId": "quarto"
    }
   },
   "outputs": [
    {
     "name": "stdout",
     "output_type": "stream",
     "text": [
      "Ans 3:\n",
      "We cannot use shipments_df['is_late'] in the 'if' statement as it returns a data series which is compared against a single boolean value\n",
      "\n",
      "\n",
      "The fix would be to use a map method in the lambda function as shown below\n"
     ]
    },
    {
     "ename": "ValueError",
     "evalue": "Invalid format specifier ' 'Darn Shipment is Late', False: 'Shipment is on Time'' for object of type 'bool'",
     "output_type": "error",
     "traceback": [
      "\u001b[0;31m---------------------------------------------------------------------------\u001b[0m",
      "\u001b[0;31mValueError\u001b[0m                                Traceback (most recent call last)",
      "File \u001b[1;32m/Users/rameshgovindaswamy/Applications/Ramesh-dataManipulationChallenge/index.qmd:5\u001b[0m\n\u001b[1;32m      3\u001b[0m \u001b[39mprint\u001b[39m(\u001b[39m\"\u001b[39m\u001b[39m\\n\u001b[39;00m\u001b[39m\"\u001b[39m)\n\u001b[1;32m      4\u001b[0m \u001b[39mprint\u001b[39m(\u001b[39m\"\u001b[39m\u001b[39mThe fix would be to use a map method in the lambda function as shown below\u001b[39m\u001b[39m\"\u001b[39m)\n\u001b[0;32m----> 5\u001b[0m \u001b[39mprint\u001b[39m(\u001b[39mf\u001b[39m\u001b[39m\"\u001b[39m\u001b[39mlateStatement=lambda df: df[\u001b[39m\u001b[39m'\u001b[39m\u001b[39mis_late\u001b[39m\u001b[39m'\u001b[39m\u001b[39m].map(\u001b[39m\u001b[39m{\u001b[39;00m\u001b[39mTrue\u001b[39;00m\u001b[39m:\u001b[39;00m\u001b[39m \u001b[39m\u001b[39m'\u001b[39m\u001b[39mDarn Shipment is Late\u001b[39m\u001b[39m'\u001b[39m\u001b[39m, False: \u001b[39m\u001b[39m'\u001b[39m\u001b[39mShipment is on Time\u001b[39m\u001b[39m'\u001b[39m\u001b[39m}\u001b[39;00m\u001b[39m)\u001b[39m\u001b[39m\"\u001b[39m)\n\u001b[1;32m      7\u001b[0m shipments_with_lateness \u001b[39m=\u001b[39m (\n\u001b[1;32m      8\u001b[0m     shipments_df\n\u001b[1;32m      9\u001b[0m     \u001b[39m.\u001b[39massign(\n\u001b[0;32m   (...)\u001b[0m\n\u001b[1;32m     13\u001b[0m     )\n\u001b[1;32m     14\u001b[0m )\n",
      "\u001b[0;31mValueError\u001b[0m: Invalid format specifier ' 'Darn Shipment is Late', False: 'Shipment is on Time'' for object of type 'bool'"
     ]
    }
   ],
   "source": [
    "print(\"Ans 3:\")\n",
    "print(f\"We cannot use shipments_df['is_late'] in the 'if' statement as it returns a data series which is compared against a single boolean value\")\n",
    "print(\"\\n\")\n",
    "print(\"The fix would be to use a map method in the lambda function as shown below\")\n",
    "print(f\"lateStatement=lambda df: df['is_late'].map({True: 'Darn Shipment is Late', False: 'Shipment is on Time'})\")\n",
    "\n",
    "shipments_with_lateness = (\n",
    "    shipments_df\n",
    "    .assign(\n",
    "        is_late=lambda df: df['actualShipDate'] > df['plannedShipDate'],\n",
    "        days_late=lambda df: (df['actualShipDate'] - df['plannedShipDate']).dt.days,\n",
    "        lateStatement=lambda df: df['is_late'].map({True: \"Darn Shipment is Late\", False: \"Shipment is on Time\"})\n",
    "    )\n",
    ")"
   ]
  },
  {
   "cell_type": "code",
   "execution_count": null,
   "id": "d9ae18f6-7f85-49de-bfad-feb4e7b5844b",
   "metadata": {
    "vscode": {
     "languageId": "quarto"
    }
   },
   "outputs": [
    {
     "name": "stdout",
     "output_type": "stream",
     "text": [
      "Ans 3:\n",
      "We cannot use shipments_df['is_late'] in the 'if' statement as it returns a data series which is compared against a single boolean value\n",
      "\n",
      "\n",
      "The fix would be to use a map method in the lambda function as shown below\n"
     ]
    },
    {
     "name": "stderr",
     "output_type": "stream",
     "text": [
      "<string>:5: SyntaxWarning: invalid escape sequence '\\{'\n",
      "<string>:5: SyntaxWarning: invalid escape sequence '\\}'\n",
      "<>:5: SyntaxWarning: invalid escape sequence '\\{'\n",
      "<>:5: SyntaxWarning: invalid escape sequence '\\}'\n",
      "<string>:5: SyntaxWarning: invalid escape sequence '\\{'\n",
      "<string>:5: SyntaxWarning: invalid escape sequence '\\}'\n",
      "<>:5: SyntaxWarning: invalid escape sequence '\\{'\n",
      "<>:5: SyntaxWarning: invalid escape sequence '\\}'\n",
      "<ipython-input-121-5a9eec951014>:5: SyntaxWarning: invalid escape sequence '\\{'\n",
      "  print(f\"lateStatement=lambda df: df['is_late'].map(\\{True: 'Darn Shipment is Late', False: 'Shipment is on Time'\\})\")\n",
      "<ipython-input-121-5a9eec951014>:5: SyntaxWarning: invalid escape sequence '\\}'\n",
      "  print(f\"lateStatement=lambda df: df['is_late'].map(\\{True: 'Darn Shipment is Late', False: 'Shipment is on Time'\\})\")\n",
      "<ipython-input-121-5a9eec951014>:5: SyntaxWarning: invalid escape sequence '\\{'\n",
      "  print(f\"lateStatement=lambda df: df['is_late'].map(\\{True: 'Darn Shipment is Late', False: 'Shipment is on Time'\\})\")\n",
      "<ipython-input-121-5a9eec951014>:5: SyntaxWarning: invalid escape sequence '\\}'\n",
      "  print(f\"lateStatement=lambda df: df['is_late'].map(\\{True: 'Darn Shipment is Late', False: 'Shipment is on Time'\\})\")\n",
      "<string>:5: SyntaxWarning: invalid escape sequence '\\{'\n",
      "<string>:5: SyntaxWarning: invalid escape sequence '\\}'\n"
     ]
    },
    {
     "ename": "ValueError",
     "evalue": "Invalid format specifier ' 'Darn Shipment is Late', False: 'Shipment is on Time'\\' for object of type 'bool'",
     "output_type": "error",
     "traceback": [
      "\u001b[0;31m---------------------------------------------------------------------------\u001b[0m",
      "\u001b[0;31mValueError\u001b[0m                                Traceback (most recent call last)",
      "File \u001b[1;32m/Users/rameshgovindaswamy/Applications/Ramesh-dataManipulationChallenge/index.qmd:5\u001b[0m\n\u001b[1;32m      3\u001b[0m \u001b[39mprint\u001b[39m(\u001b[39m\"\u001b[39m\u001b[39m\\n\u001b[39;00m\u001b[39m\"\u001b[39m)\n\u001b[1;32m      4\u001b[0m \u001b[39mprint\u001b[39m(\u001b[39m\"\u001b[39m\u001b[39mThe fix would be to use a map method in the lambda function as shown below\u001b[39m\u001b[39m\"\u001b[39m)\n\u001b[0;32m----> 5\u001b[0m \u001b[39mprint\u001b[39m(\u001b[39mf\u001b[39m\u001b[39m\"\u001b[39m\u001b[39mlateStatement=lambda df: df[\u001b[39m\u001b[39m'\u001b[39m\u001b[39mis_late\u001b[39m\u001b[39m'\u001b[39m\u001b[39m].map(\u001b[39m\u001b[39m\\\u001b[39m\u001b[39m{\u001b[39;00m\u001b[39mTrue\u001b[39;00m\u001b[39m:\u001b[39;00m\u001b[39m \u001b[39m\u001b[39m'\u001b[39m\u001b[39mDarn Shipment is Late\u001b[39m\u001b[39m'\u001b[39m\u001b[39m, False: \u001b[39m\u001b[39m'\u001b[39m\u001b[39mShipment is on Time\u001b[39m\u001b[39m'\u001b[39m\u001b[39m\\\u001b[39m\u001b[39m}\u001b[39;00m\u001b[39m)\u001b[39m\u001b[39m\"\u001b[39m)\n\u001b[1;32m      7\u001b[0m shipments_with_lateness \u001b[39m=\u001b[39m (\n\u001b[1;32m      8\u001b[0m     shipments_df\n\u001b[1;32m      9\u001b[0m     \u001b[39m.\u001b[39massign(\n\u001b[0;32m   (...)\u001b[0m\n\u001b[1;32m     13\u001b[0m     )\n\u001b[1;32m     14\u001b[0m )\n",
      "\u001b[0;31mValueError\u001b[0m: Invalid format specifier ' 'Darn Shipment is Late', False: 'Shipment is on Time'\\' for object of type 'bool'"
     ]
    }
   ],
   "source": [
    "print(\"Ans 3:\")\n",
    "print(f\"We cannot use shipments_df['is_late'] in the 'if' statement as it returns a data series which is compared against a single boolean value\")\n",
    "print(\"\\n\")\n",
    "print(\"The fix would be to use a map method in the lambda function as shown below\")\n",
    "print(f\"lateStatement=lambda df: df['is_late'].map(\\{True: 'Darn Shipment is Late', False: 'Shipment is on Time'\\})\")\n",
    "\n",
    "shipments_with_lateness = (\n",
    "    shipments_df\n",
    "    .assign(\n",
    "        is_late=lambda df: df['actualShipDate'] > df['plannedShipDate'],\n",
    "        days_late=lambda df: (df['actualShipDate'] - df['plannedShipDate']).dt.days,\n",
    "        lateStatement=lambda df: df['is_late'].map({True: \"Darn Shipment is Late\", False: \"Shipment is on Time\"})\n",
    "    )\n",
    ")"
   ]
  },
  {
   "cell_type": "code",
   "execution_count": null,
   "id": "6e74047f-2165-4ae4-8179-393ff4f086a2",
   "metadata": {
    "vscode": {
     "languageId": "quarto"
    }
   },
   "outputs": [
    {
     "name": "stdout",
     "output_type": "stream",
     "text": [
      "Ans 3:\n",
      "We cannot use shipments_df['is_late'] in the 'if' statement as it returns a data series which is compared against a single boolean value\n",
      "\n",
      "\n",
      "The fix would be to use a map method in the lambda function as shown below\n"
     ]
    }
   ],
   "source": [
    "print(\"Ans 3:\")\n",
    "print(f\"We cannot use shipments_df['is_late'] in the 'if' statement as it returns a data series which is compared against a single boolean value\")\n",
    "print(\"\\n\")\n",
    "print(\"The fix would be to use a map method in the lambda function as shown below\")\n",
    "\n",
    "shipments_with_lateness = (\n",
    "    shipments_df\n",
    "    .assign(\n",
    "        is_late=lambda df: df['actualShipDate'] > df['plannedShipDate'],\n",
    "        days_late=lambda df: (df['actualShipDate'] - df['plannedShipDate']).dt.days,\n",
    "        lateStatement=lambda df: df['is_late'].map({True: \"Darn Shipment is Late\", False: \"Shipment is on Time\"})\n",
    "    )\n",
    ")"
   ]
  },
  {
   "cell_type": "code",
   "execution_count": null,
   "id": "2a699515-0694-400f-9ac7-d336d7817a66",
   "metadata": {
    "vscode": {
     "languageId": "quarto"
    }
   },
   "outputs": [
    {
     "name": "stdout",
     "output_type": "stream",
     "text": [
      "Ans 3:\n",
      "We cannot use shipments_df['is_late'] in the 'if' statement as it returns a data series which is compared against a single boolean value\n",
      "The fix would be to use a map method in the lambda function as shown below\n"
     ]
    }
   ],
   "source": [
    "print(\"Ans 3:\")\n",
    "print(f\"We cannot use shipments_df['is_late'] in the 'if' statement as it returns a data series which is compared against a single boolean value\")\n",
    "\n",
    "print(\"The fix would be to use a map method in the lambda function as shown below\")\n",
    "\n",
    "shipments_with_lateness = (\n",
    "    shipments_df\n",
    "    .assign(\n",
    "        is_late=lambda df: df['actualShipDate'] > df['plannedShipDate'],\n",
    "        days_late=lambda df: (df['actualShipDate'] - df['plannedShipDate']).dt.days,\n",
    "        lateStatement=lambda df: df['is_late'].map({True: \"Darn Shipment is Late\", False: \"Shipment is on Time\"})\n",
    "    )\n",
    ")"
   ]
  }
 ],
 "metadata": {
  "kernelspec": {
   "display_name": "base",
   "language": "python",
   "name": "python3"
  },
  "language_info": {
   "name": "python",
   "version": "3.12.7"
  }
 },
 "nbformat": 4,
 "nbformat_minor": 5
}
